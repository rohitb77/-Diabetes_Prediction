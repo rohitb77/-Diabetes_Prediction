{
 "cells": [
  {
   "cell_type": "markdown",
   "metadata": {},
   "source": [
    "# Introduction:\n",
    "The diabetes dataset is a binary classification problem where it needs to analyse whether a patient is suffering from the diabetes disease or not on the basis of many available features in the dataset. In this project, various machine learning algorithms are applied to predict diabetes, based on specific attributes and compared their performance measures to choose best classifier. "
   ]
  },
  {
   "cell_type": "markdown",
   "metadata": {},
   "source": [
    "* Name of dataset:\tPima Indians Diabetes\n",
    "* Description:From National Institute of Diabetes and Digestive and Kidney Diseases; Includes cost data (donated by Peter Turney)\n",
    "* Data types:\tMultivariate\n",
    "* Data task:\tClassification\n",
    "* Attribute types:\tInteger, Real\n",
    "* Instances:\t768\n",
    "* Variables:\t9\n",
    "* Year:\t1990\n",
    "* Area:\tLife"
   ]
  },
  {
   "cell_type": "markdown",
   "metadata": {},
   "source": [
    "# Contents:\n",
    "* Load Dataset\n",
    "* Data Preparation and Statistical Analysis:\n",
    "    * Count of observation in each class\n",
    "    * Descriptive Statistics\n",
    "    * Handling Missing Values\n",
    "\t    * Data visualization and Hypothesis testing\n",
    "\t    * Imputing missing values\n",
    "    * Data Transformation\n",
    "    * Correlation between different attributes.\n",
    "* Model Building and Evaluation\n",
    "  * Using Hold Out Method.\n",
    "  * Using K-Fold Cross Validation Method\n"
   ]
  },
  {
   "cell_type": "markdown",
   "metadata": {},
   "source": [
    "# Load some  important libraries:"
   ]
  },
  {
   "cell_type": "code",
   "execution_count": 1,
   "metadata": {},
   "outputs": [],
   "source": [
    "#load imp.libraries\n",
    "import numpy as np\n",
    "import pandas as pd\n",
    "import seaborn as sns \n",
    "import matplotlib.pyplot as plt\n",
    "%matplotlib inline"
   ]
  },
  {
   "cell_type": "markdown",
   "metadata": {},
   "source": [
    "# Load Diabetes dataset:"
   ]
  },
  {
   "cell_type": "code",
   "execution_count": 2,
   "metadata": {},
   "outputs": [
    {
     "data": {
      "text/html": [
       "<div>\n",
       "<style scoped>\n",
       "    .dataframe tbody tr th:only-of-type {\n",
       "        vertical-align: middle;\n",
       "    }\n",
       "\n",
       "    .dataframe tbody tr th {\n",
       "        vertical-align: top;\n",
       "    }\n",
       "\n",
       "    .dataframe thead th {\n",
       "        text-align: right;\n",
       "    }\n",
       "</style>\n",
       "<table border=\"1\" class=\"dataframe\">\n",
       "  <thead>\n",
       "    <tr style=\"text-align: right;\">\n",
       "      <th></th>\n",
       "      <th>Pregnancies</th>\n",
       "      <th>Glucose</th>\n",
       "      <th>BloodPressure</th>\n",
       "      <th>SkinThickness</th>\n",
       "      <th>Insulin</th>\n",
       "      <th>BMI</th>\n",
       "      <th>DiabetesPedigreeFunction</th>\n",
       "      <th>Age</th>\n",
       "      <th>Outcome</th>\n",
       "    </tr>\n",
       "  </thead>\n",
       "  <tbody>\n",
       "    <tr>\n",
       "      <th>0</th>\n",
       "      <td>6</td>\n",
       "      <td>148</td>\n",
       "      <td>72</td>\n",
       "      <td>35</td>\n",
       "      <td>0</td>\n",
       "      <td>33.6</td>\n",
       "      <td>0.627</td>\n",
       "      <td>50</td>\n",
       "      <td>1</td>\n",
       "    </tr>\n",
       "    <tr>\n",
       "      <th>1</th>\n",
       "      <td>1</td>\n",
       "      <td>85</td>\n",
       "      <td>66</td>\n",
       "      <td>29</td>\n",
       "      <td>0</td>\n",
       "      <td>26.6</td>\n",
       "      <td>0.351</td>\n",
       "      <td>31</td>\n",
       "      <td>0</td>\n",
       "    </tr>\n",
       "    <tr>\n",
       "      <th>2</th>\n",
       "      <td>8</td>\n",
       "      <td>183</td>\n",
       "      <td>64</td>\n",
       "      <td>0</td>\n",
       "      <td>0</td>\n",
       "      <td>23.3</td>\n",
       "      <td>0.672</td>\n",
       "      <td>32</td>\n",
       "      <td>1</td>\n",
       "    </tr>\n",
       "    <tr>\n",
       "      <th>3</th>\n",
       "      <td>1</td>\n",
       "      <td>89</td>\n",
       "      <td>66</td>\n",
       "      <td>23</td>\n",
       "      <td>94</td>\n",
       "      <td>28.1</td>\n",
       "      <td>0.167</td>\n",
       "      <td>21</td>\n",
       "      <td>0</td>\n",
       "    </tr>\n",
       "    <tr>\n",
       "      <th>4</th>\n",
       "      <td>0</td>\n",
       "      <td>137</td>\n",
       "      <td>40</td>\n",
       "      <td>35</td>\n",
       "      <td>168</td>\n",
       "      <td>43.1</td>\n",
       "      <td>2.288</td>\n",
       "      <td>33</td>\n",
       "      <td>1</td>\n",
       "    </tr>\n",
       "  </tbody>\n",
       "</table>\n",
       "</div>"
      ],
      "text/plain": [
       "   Pregnancies  Glucose  BloodPressure  SkinThickness  Insulin   BMI  \\\n",
       "0            6      148             72             35        0  33.6   \n",
       "1            1       85             66             29        0  26.6   \n",
       "2            8      183             64              0        0  23.3   \n",
       "3            1       89             66             23       94  28.1   \n",
       "4            0      137             40             35      168  43.1   \n",
       "\n",
       "   DiabetesPedigreeFunction  Age  Outcome  \n",
       "0                     0.627   50        1  \n",
       "1                     0.351   31        0  \n",
       "2                     0.672   32        1  \n",
       "3                     0.167   21        0  \n",
       "4                     2.288   33        1  "
      ]
     },
     "execution_count": 2,
     "metadata": {},
     "output_type": "execute_result"
    }
   ],
   "source": [
    "#Load data\n",
    "data=pd.read_csv(\"F:diabetes.csv\")\n",
    "data.head()"
   ]
  },
  {
   "cell_type": "markdown",
   "metadata": {},
   "source": [
    "# Data Preparation and Statistical Analysis:"
   ]
  },
  {
   "cell_type": "markdown",
   "metadata": {},
   "source": [
    "### Data understanding:"
   ]
  },
  {
   "cell_type": "code",
   "execution_count": 3,
   "metadata": {
    "scrolled": true
   },
   "outputs": [
    {
     "data": {
      "text/plain": [
       "(768, 9)"
      ]
     },
     "execution_count": 3,
     "metadata": {},
     "output_type": "execute_result"
    }
   ],
   "source": [
    "#check shape of the data\n",
    "data.shape"
   ]
  },
  {
   "cell_type": "code",
   "execution_count": 4,
   "metadata": {
    "scrolled": true
   },
   "outputs": [
    {
     "data": {
      "text/plain": [
       "Index(['Pregnancies', 'Glucose', 'BloodPressure', 'SkinThickness', 'Insulin',\n",
       "       'BMI', 'DiabetesPedigreeFunction', 'Age', 'Outcome'],\n",
       "      dtype='object')"
      ]
     },
     "execution_count": 4,
     "metadata": {},
     "output_type": "execute_result"
    }
   ],
   "source": [
    "#see columns \n",
    "data.columns"
   ]
  },
  {
   "cell_type": "code",
   "execution_count": 5,
   "metadata": {
    "scrolled": false
   },
   "outputs": [
    {
     "name": "stdout",
     "output_type": "stream",
     "text": [
      "<class 'pandas.core.frame.DataFrame'>\n",
      "RangeIndex: 768 entries, 0 to 767\n",
      "Data columns (total 9 columns):\n",
      "Pregnancies                 768 non-null int64\n",
      "Glucose                     768 non-null int64\n",
      "BloodPressure               768 non-null int64\n",
      "SkinThickness               768 non-null int64\n",
      "Insulin                     768 non-null int64\n",
      "BMI                         768 non-null float64\n",
      "DiabetesPedigreeFunction    768 non-null float64\n",
      "Age                         768 non-null int64\n",
      "Outcome                     768 non-null int64\n",
      "dtypes: float64(2), int64(7)\n",
      "memory usage: 54.1 KB\n"
     ]
    }
   ],
   "source": [
    "#data information \n",
    "data.info()"
   ]
  },
  {
   "cell_type": "code",
   "execution_count": 6,
   "metadata": {},
   "outputs": [
    {
     "data": {
      "image/png": "[encoded data removed]",
      "text/plain": [
       "<Figure size 432x360 with 1 Axes>"
      ]
     },
     "metadata": {
      "needs_background": "light"
     },
     "output_type": "display_data"
    }
   ],
   "source": [
    "#Count plot for classes\n",
    "plt.figure(figsize=(6,5))\n",
    "axis =sns.countplot(data.Outcome)\n",
    "plt.title(\"Count plot for classes\")\n",
    "plt.xlabel(\"Class\",fontsize=14)\n",
    "plt.ylabel(\"Count\",fontsize=14)\n",
    "\n",
    "for p in axis.patches:\n",
    "    height = p.get_height()\n",
    "    axis.text( p.get_x() + p.get_width()/2, height+2,'{:1.4f}'.format(height), ha=\"center\",fontsize=14) \n",
    "    \n",
    "plt.show()"
   ]
  },
  {
   "cell_type": "markdown",
   "metadata": {},
   "source": [
    "Since no. of non-diabetic patients are higher than the diabetic patients ,It is imbalanced classification problem."
   ]
  },
  {
   "cell_type": "markdown",
   "metadata": {},
   "source": [
    "### Discriptive Statistics:"
   ]
  },
  {
   "cell_type": "code",
   "execution_count": 7,
   "metadata": {},
   "outputs": [
    {
     "data": {
      "text/html": [
       "<div>\n",
       "<style scoped>\n",
       "    .dataframe tbody tr th:only-of-type {\n",
       "        vertical-align: middle;\n",
       "    }\n",
       "\n",
       "    .dataframe tbody tr th {\n",
       "        vertical-align: top;\n",
       "    }\n",
       "\n",
       "    .dataframe thead th {\n",
       "        text-align: right;\n",
       "    }\n",
       "</style>\n",
       "<table border=\"1\" class=\"dataframe\">\n",
       "  <thead>\n",
       "    <tr style=\"text-align: right;\">\n",
       "      <th></th>\n",
       "      <th>Pregnancies</th>\n",
       "      <th>Glucose</th>\n",
       "      <th>BloodPressure</th>\n",
       "      <th>SkinThickness</th>\n",
       "      <th>Insulin</th>\n",
       "      <th>BMI</th>\n",
       "      <th>DiabetesPedigreeFunction</th>\n",
       "      <th>Age</th>\n",
       "      <th>Outcome</th>\n",
       "    </tr>\n",
       "  </thead>\n",
       "  <tbody>\n",
       "    <tr>\n",
       "      <th>count</th>\n",
       "      <td>768.00</td>\n",
       "      <td>768.00</td>\n",
       "      <td>768.00</td>\n",
       "      <td>768.00</td>\n",
       "      <td>768.00</td>\n",
       "      <td>768.00</td>\n",
       "      <td>768.00</td>\n",
       "      <td>768.00</td>\n",
       "      <td>768.00</td>\n",
       "    </tr>\n",
       "    <tr>\n",
       "      <th>mean</th>\n",
       "      <td>3.85</td>\n",
       "      <td>120.89</td>\n",
       "      <td>69.11</td>\n",
       "      <td>20.54</td>\n",
       "      <td>79.80</td>\n",
       "      <td>31.99</td>\n",
       "      <td>0.47</td>\n",
       "      <td>33.24</td>\n",
       "      <td>0.35</td>\n",
       "    </tr>\n",
       "    <tr>\n",
       "      <th>std</th>\n",
       "      <td>3.37</td>\n",
       "      <td>31.97</td>\n",
       "      <td>19.36</td>\n",
       "      <td>15.95</td>\n",
       "      <td>115.24</td>\n",
       "      <td>7.88</td>\n",
       "      <td>0.33</td>\n",
       "      <td>11.76</td>\n",
       "      <td>0.48</td>\n",
       "    </tr>\n",
       "    <tr>\n",
       "      <th>min</th>\n",
       "      <td>0.00</td>\n",
       "      <td>0.00</td>\n",
       "      <td>0.00</td>\n",
       "      <td>0.00</td>\n",
       "      <td>0.00</td>\n",
       "      <td>0.00</td>\n",
       "      <td>0.08</td>\n",
       "      <td>21.00</td>\n",
       "      <td>0.00</td>\n",
       "    </tr>\n",
       "    <tr>\n",
       "      <th>25%</th>\n",
       "      <td>1.00</td>\n",
       "      <td>99.00</td>\n",
       "      <td>62.00</td>\n",
       "      <td>0.00</td>\n",
       "      <td>0.00</td>\n",
       "      <td>27.30</td>\n",
       "      <td>0.24</td>\n",
       "      <td>24.00</td>\n",
       "      <td>0.00</td>\n",
       "    </tr>\n",
       "    <tr>\n",
       "      <th>50%</th>\n",
       "      <td>3.00</td>\n",
       "      <td>117.00</td>\n",
       "      <td>72.00</td>\n",
       "      <td>23.00</td>\n",
       "      <td>30.50</td>\n",
       "      <td>32.00</td>\n",
       "      <td>0.37</td>\n",
       "      <td>29.00</td>\n",
       "      <td>0.00</td>\n",
       "    </tr>\n",
       "    <tr>\n",
       "      <th>75%</th>\n",
       "      <td>6.00</td>\n",
       "      <td>140.25</td>\n",
       "      <td>80.00</td>\n",
       "      <td>32.00</td>\n",
       "      <td>127.25</td>\n",
       "      <td>36.60</td>\n",
       "      <td>0.63</td>\n",
       "      <td>41.00</td>\n",
       "      <td>1.00</td>\n",
       "    </tr>\n",
       "    <tr>\n",
       "      <th>max</th>\n",
       "      <td>17.00</td>\n",
       "      <td>199.00</td>\n",
       "      <td>122.00</td>\n",
       "      <td>99.00</td>\n",
       "      <td>846.00</td>\n",
       "      <td>67.10</td>\n",
       "      <td>2.42</td>\n",
       "      <td>81.00</td>\n",
       "      <td>1.00</td>\n",
       "    </tr>\n",
       "  </tbody>\n",
       "</table>\n",
       "</div>"
      ],
      "text/plain": [
       "       Pregnancies  Glucose  BloodPressure  SkinThickness  Insulin     BMI  \\\n",
       "count       768.00   768.00         768.00         768.00   768.00  768.00   \n",
       "mean          3.85   120.89          69.11          20.54    79.80   31.99   \n",
       "std           3.37    31.97          19.36          15.95   115.24    7.88   \n",
       "min           0.00     0.00           0.00           0.00     0.00    0.00   \n",
       "25%           1.00    99.00          62.00           0.00     0.00   27.30   \n",
       "50%           3.00   117.00          72.00          23.00    30.50   32.00   \n",
       "75%           6.00   140.25          80.00          32.00   127.25   36.60   \n",
       "max          17.00   199.00         122.00          99.00   846.00   67.10   \n",
       "\n",
       "       DiabetesPedigreeFunction     Age  Outcome  \n",
       "count                    768.00  768.00   768.00  \n",
       "mean                       0.47   33.24     0.35  \n",
       "std                        0.33   11.76     0.48  \n",
       "min                        0.08   21.00     0.00  \n",
       "25%                        0.24   24.00     0.00  \n",
       "50%                        0.37   29.00     0.00  \n",
       "75%                        0.63   41.00     1.00  \n",
       "max                        2.42   81.00     1.00  "
      ]
     },
     "execution_count": 7,
     "metadata": {},
     "output_type": "execute_result"
    }
   ],
   "source": [
    "data.describe().round(2)"
   ]
  },
  {
   "cell_type": "markdown",
   "metadata": {},
   "source": [
    "#Above table describes count,mean,std ,minimum value, 1st quartile value , 2nd quartile value , 3rd quartile value and maximum value for each variable in data.\n",
    "\n",
    "* Here we can see minimum value for columns \"Pregnancies\", \"Glucose\",\"BloodPressure\",\"SkinThickness\", \"Insulin\"  and \"BMI\" is zero.\n",
    "* Woman may have zero pregnancies But PlasmaGlucose level ,BloodPressure,SkinThikness and BMI\" cannot be zero.\n",
    "* Also Insulin is Zero in vary rare cases .\n",
    "* So First we need to check  count for zeros in these columns. "
   ]
  },
  {
   "cell_type": "markdown",
   "metadata": {},
   "source": [
    "## Count zeroes in column corresponding to each feature:"
   ]
  },
  {
   "cell_type": "code",
   "execution_count": 8,
   "metadata": {},
   "outputs": [
    {
     "data": {
      "text/html": [
       "<div>\n",
       "<style scoped>\n",
       "    .dataframe tbody tr th:only-of-type {\n",
       "        vertical-align: middle;\n",
       "    }\n",
       "\n",
       "    .dataframe tbody tr th {\n",
       "        vertical-align: top;\n",
       "    }\n",
       "\n",
       "    .dataframe thead th {\n",
       "        text-align: right;\n",
       "    }\n",
       "</style>\n",
       "<table border=\"1\" class=\"dataframe\">\n",
       "  <thead>\n",
       "    <tr style=\"text-align: right;\">\n",
       "      <th></th>\n",
       "      <th>Feature</th>\n",
       "      <th>Count_of_zeros</th>\n",
       "    </tr>\n",
       "  </thead>\n",
       "  <tbody>\n",
       "    <tr>\n",
       "      <th>0</th>\n",
       "      <td>Pregnancies</td>\n",
       "      <td>111</td>\n",
       "    </tr>\n",
       "    <tr>\n",
       "      <th>1</th>\n",
       "      <td>Glucose</td>\n",
       "      <td>5</td>\n",
       "    </tr>\n",
       "    <tr>\n",
       "      <th>2</th>\n",
       "      <td>BloodPressure</td>\n",
       "      <td>35</td>\n",
       "    </tr>\n",
       "    <tr>\n",
       "      <th>3</th>\n",
       "      <td>SkinThickness</td>\n",
       "      <td>227</td>\n",
       "    </tr>\n",
       "    <tr>\n",
       "      <th>4</th>\n",
       "      <td>Insulin</td>\n",
       "      <td>374</td>\n",
       "    </tr>\n",
       "    <tr>\n",
       "      <th>5</th>\n",
       "      <td>BMI</td>\n",
       "      <td>11</td>\n",
       "    </tr>\n",
       "    <tr>\n",
       "      <th>6</th>\n",
       "      <td>DiabetesPedigreeFunction</td>\n",
       "      <td>0</td>\n",
       "    </tr>\n",
       "    <tr>\n",
       "      <th>7</th>\n",
       "      <td>Age</td>\n",
       "      <td>0</td>\n",
       "    </tr>\n",
       "  </tbody>\n",
       "</table>\n",
       "</div>"
      ],
      "text/plain": [
       "                    Feature  Count_of_zeros\n",
       "0               Pregnancies             111\n",
       "1                   Glucose               5\n",
       "2             BloodPressure              35\n",
       "3             SkinThickness             227\n",
       "4                   Insulin             374\n",
       "5                       BMI              11\n",
       "6  DiabetesPedigreeFunction               0\n",
       "7                       Age               0"
      ]
     },
     "execution_count": 8,
     "metadata": {},
     "output_type": "execute_result"
    }
   ],
   "source": [
    "#count_zeroes in column corresponding to each feature.\n",
    "lst=[]\n",
    "cols=data.iloc[:,:-1].columns\n",
    "for c in cols:\n",
    "    lst.append([c,len(data.loc[data[c] == 0])])\n",
    "#print(lst)\n",
    "pd.DataFrame(lst,columns=[\"Feature\",\"Count_of_zeros\"])"
   ]
  },
  {
   "cell_type": "markdown",
   "metadata": {},
   "source": [
    "By observing the data we can see that,\n",
    "1. there are 111 counts where the value is 0 for Pregnancies.\n",
    "2. there are 5 counts where the value is 0 for Glucose\n",
    "3. there are 35 counts where the value is 0 for Blood pressure.\n",
    "4. there are 227 counts where the value is 0 for Skin Thickness\n",
    "5. there are 374 counts where the value is 0 for Insulin\n",
    "6. there are 11 counts where the value is 0 for BMI\n",
    "\n",
    "   * But PlasmaGlucose level, Bloodpressure, SkinThickness, and BMI cannot be zero.Also Insulin is zero in very very rare cases. \n",
    "   * So we treat zero values in the columns \"Glucose\",\"BloodPressure\",\"SkinThikness\",\"Insulin\" and \"BMI\" as missing values."
   ]
  },
  {
   "cell_type": "markdown",
   "metadata": {},
   "source": [
    "# Distribution of each feature:"
   ]
  },
  {
   "cell_type": "markdown",
   "metadata": {},
   "source": [
    "#Before making treatment for missing values we need to have an idea about the distribution of each feature."
   ]
  },
  {
   "cell_type": "code",
   "execution_count": 9,
   "metadata": {},
   "outputs": [
    {
     "data": {
      "image/png": "[encoded data removed]",
      "text/plain": [
       "<Figure size 720x1080 with 8 Axes>"
      ]
     },
     "metadata": {
      "needs_background": "light"
     },
     "output_type": "display_data"
    }
   ],
   "source": [
    "# Distribution plot for each feature\n",
    "fig=plt.figure(figsize=(10,15))\n",
    "fig.subplots_adjust(hspace=0.4,wspace=0.2)\n",
    "i=0\n",
    "for col in data.iloc[:,:-1].columns:\n",
    "    i=i+1\n",
    "    plt.subplot(4,2,i)\n",
    "    data[col].hist(bins=60)\n",
    "    plt.title(col)\n",
    "    plt.xlabel(col)\n",
    "    plt.ylabel('count')   "
   ]
  },
  {
   "cell_type": "markdown",
   "metadata": {},
   "source": [
    "1. Here we noticed that some instances has zero value for variables \"Glucose\", \"BloodPressure\", \"SkinThikness\",\"Insulin\"and \"BMI\".\n",
    "2. We can see variables \"Glucose\", \"BloodPressure\", \"SkinThikness\",\"Insulin\",\"BMI\" are approximate to a normal distribution\n"
   ]
  },
  {
   "cell_type": "markdown",
   "metadata": {},
   "source": [
    "#Since attributes Glucose , BloodPressure ,Skin Thickness, Insulin ,BMI , DiabetesPedigreeFunction , Age are normally distributed \n",
    "we can replace missing values by mean , But we also have to check for presence of outliers because mean value can be affected by outliers.\n",
    "If outliers are present then we try to replace missing values by median instead of mean. Bcz Median value is not affected by outliers."
   ]
  },
  {
   "cell_type": "code",
   "execution_count": 10,
   "metadata": {},
   "outputs": [],
   "source": [
    "# zero replaced by np.NaN to convineintly handle the missing values.\n",
    "cols=['Glucose','BloodPressure','SkinThickness','Insulin','BMI']\n",
    "data[cols]=data[cols].replace(0,np.NaN)"
   ]
  },
  {
   "cell_type": "code",
   "execution_count": 11,
   "metadata": {},
   "outputs": [
    {
     "data": {
      "text/plain": [
       "Pregnancies                   0\n",
       "Glucose                       5\n",
       "BloodPressure                35\n",
       "SkinThickness               227\n",
       "Insulin                     374\n",
       "BMI                          11\n",
       "DiabetesPedigreeFunction      0\n",
       "Age                           0\n",
       "Outcome                       0\n",
       "dtype: int64"
      ]
     },
     "execution_count": 11,
     "metadata": {},
     "output_type": "execute_result"
    }
   ],
   "source": [
    "#check\n",
    "#data.isnull().any()\n",
    "data.isnull().sum()"
   ]
  },
  {
   "cell_type": "code",
   "execution_count": 12,
   "metadata": {},
   "outputs": [
    {
     "name": "stdout",
     "output_type": "stream",
     "text": [
      "[['Pregnancies', 0], ['Glucose', 5], ['BloodPressure', 35], ['SkinThickness', 227], ['Insulin', 374], ['BMI', 11], ['DiabetesPedigreeFunction', 0], ['Age', 0]]\n"
     ]
    },
    {
     "data": {
      "text/html": [
       "<div>\n",
       "<style scoped>\n",
       "    .dataframe tbody tr th:only-of-type {\n",
       "        vertical-align: middle;\n",
       "    }\n",
       "\n",
       "    .dataframe tbody tr th {\n",
       "        vertical-align: top;\n",
       "    }\n",
       "\n",
       "    .dataframe thead th {\n",
       "        text-align: right;\n",
       "    }\n",
       "</style>\n",
       "<table border=\"1\" class=\"dataframe\">\n",
       "  <thead>\n",
       "    <tr style=\"text-align: right;\">\n",
       "      <th></th>\n",
       "      <th>Features</th>\n",
       "      <th>No_of_missing_values</th>\n",
       "    </tr>\n",
       "  </thead>\n",
       "  <tbody>\n",
       "    <tr>\n",
       "      <th>0</th>\n",
       "      <td>Pregnancies</td>\n",
       "      <td>0</td>\n",
       "    </tr>\n",
       "    <tr>\n",
       "      <th>1</th>\n",
       "      <td>Glucose</td>\n",
       "      <td>5</td>\n",
       "    </tr>\n",
       "    <tr>\n",
       "      <th>2</th>\n",
       "      <td>BloodPressure</td>\n",
       "      <td>35</td>\n",
       "    </tr>\n",
       "    <tr>\n",
       "      <th>3</th>\n",
       "      <td>SkinThickness</td>\n",
       "      <td>227</td>\n",
       "    </tr>\n",
       "    <tr>\n",
       "      <th>4</th>\n",
       "      <td>Insulin</td>\n",
       "      <td>374</td>\n",
       "    </tr>\n",
       "    <tr>\n",
       "      <th>5</th>\n",
       "      <td>BMI</td>\n",
       "      <td>11</td>\n",
       "    </tr>\n",
       "    <tr>\n",
       "      <th>6</th>\n",
       "      <td>DiabetesPedigreeFunction</td>\n",
       "      <td>0</td>\n",
       "    </tr>\n",
       "    <tr>\n",
       "      <th>7</th>\n",
       "      <td>Age</td>\n",
       "      <td>0</td>\n",
       "    </tr>\n",
       "  </tbody>\n",
       "</table>\n",
       "</div>"
      ],
      "text/plain": [
       "                   Features  No_of_missing_values\n",
       "0               Pregnancies                     0\n",
       "1                   Glucose                     5\n",
       "2             BloodPressure                    35\n",
       "3             SkinThickness                   227\n",
       "4                   Insulin                   374\n",
       "5                       BMI                    11\n",
       "6  DiabetesPedigreeFunction                     0\n",
       "7                       Age                     0"
      ]
     },
     "execution_count": 12,
     "metadata": {},
     "output_type": "execute_result"
    }
   ],
   "source": [
    "#count_null_values in each column\n",
    "\n",
    "lst=[]\n",
    "for col in data.iloc[:,:-1].columns:\n",
    "    lst.append([col,len(data.loc[data[col].isnull()== True])])  \n",
    "print(lst)\n",
    "pd.DataFrame(lst,columns=[\"Features\",\"No_of_missing_values\"])"
   ]
  },
  {
   "cell_type": "code",
   "execution_count": 13,
   "metadata": {
    "scrolled": false
   },
   "outputs": [
    {
     "data": {
      "image/png": "[encoded data removed]",
      "text/plain": [
       "<Figure size 1440x1440 with 8 Axes>"
      ]
     },
     "metadata": {
      "needs_background": "light"
     },
     "output_type": "display_data"
    }
   ],
   "source": [
    "#Boxplots\n",
    "plt.figure(figsize=(20,20))\n",
    "plt.title(\"Visualization of class-oriented distribution of each feature using boxplot\")\n",
    "for column_index, column in enumerate(data.columns):\n",
    "    if column == 'Outcome':\n",
    "        continue\n",
    "    plt.subplot(4, 4, column_index + 1)\n",
    "    plt.title(\"Boxplot\")\n",
    "    sns.boxplot(x='Outcome', y=column, data=data)"
   ]
  },
  {
   "cell_type": "markdown",
   "metadata": {},
   "source": [
    "* From the boxplot for each feature , we can see outliers are present for each attribute. \n",
    "* Specially,  Glucose, Insulin, BMI and Age  these features have high median values with respect to class 1 as compared to their median values for class 0.\n",
    "* Classwise median value for each attribute is different . But to confirm it we need to conduct Mann Whitney U test."
   ]
  },
  {
   "cell_type": "code",
   "execution_count": 14,
   "metadata": {
    "scrolled": false
   },
   "outputs": [
    {
     "data": {
      "text/html": [
       "<div>\n",
       "<style scoped>\n",
       "    .dataframe tbody tr th:only-of-type {\n",
       "        vertical-align: middle;\n",
       "    }\n",
       "\n",
       "    .dataframe tbody tr th {\n",
       "        vertical-align: top;\n",
       "    }\n",
       "\n",
       "    .dataframe thead th {\n",
       "        text-align: right;\n",
       "    }\n",
       "</style>\n",
       "<table border=\"1\" class=\"dataframe\">\n",
       "  <thead>\n",
       "    <tr style=\"text-align: right;\">\n",
       "      <th></th>\n",
       "      <th>Feature</th>\n",
       "      <th>Median for Nondiabetic</th>\n",
       "      <th>Median for diabetic</th>\n",
       "    </tr>\n",
       "  </thead>\n",
       "  <tbody>\n",
       "    <tr>\n",
       "      <th>0</th>\n",
       "      <td>Pregnancies</td>\n",
       "      <td>2.000</td>\n",
       "      <td>4.000</td>\n",
       "    </tr>\n",
       "    <tr>\n",
       "      <th>1</th>\n",
       "      <td>Glucose</td>\n",
       "      <td>107.000</td>\n",
       "      <td>140.000</td>\n",
       "    </tr>\n",
       "    <tr>\n",
       "      <th>2</th>\n",
       "      <td>BloodPressure</td>\n",
       "      <td>70.000</td>\n",
       "      <td>74.500</td>\n",
       "    </tr>\n",
       "    <tr>\n",
       "      <th>3</th>\n",
       "      <td>SkinThickness</td>\n",
       "      <td>27.000</td>\n",
       "      <td>32.000</td>\n",
       "    </tr>\n",
       "    <tr>\n",
       "      <th>4</th>\n",
       "      <td>Insulin</td>\n",
       "      <td>102.500</td>\n",
       "      <td>169.500</td>\n",
       "    </tr>\n",
       "    <tr>\n",
       "      <th>5</th>\n",
       "      <td>BMI</td>\n",
       "      <td>30.100</td>\n",
       "      <td>34.300</td>\n",
       "    </tr>\n",
       "    <tr>\n",
       "      <th>6</th>\n",
       "      <td>DiabetesPedigreeFunction</td>\n",
       "      <td>0.336</td>\n",
       "      <td>0.449</td>\n",
       "    </tr>\n",
       "    <tr>\n",
       "      <th>7</th>\n",
       "      <td>Age</td>\n",
       "      <td>27.000</td>\n",
       "      <td>36.000</td>\n",
       "    </tr>\n",
       "  </tbody>\n",
       "</table>\n",
       "</div>"
      ],
      "text/plain": [
       "                    Feature  Median for Nondiabetic  Median for diabetic\n",
       "0               Pregnancies                   2.000                4.000\n",
       "1                   Glucose                 107.000              140.000\n",
       "2             BloodPressure                  70.000               74.500\n",
       "3             SkinThickness                  27.000               32.000\n",
       "4                   Insulin                 102.500              169.500\n",
       "5                       BMI                  30.100               34.300\n",
       "6  DiabetesPedigreeFunction                   0.336                0.449\n",
       "7                       Age                  27.000               36.000"
      ]
     },
     "execution_count": 14,
     "metadata": {},
     "output_type": "execute_result"
    }
   ],
   "source": [
    "#Classwise median for each independent variable.\n",
    "lst=[]\n",
    "for attribute in data.iloc[:,:-1].columns:\n",
    "    d0=data.loc[data[\"Outcome\"] == 0].loc[data[attribute].notnull()]\n",
    "    d1=data.loc[data[\"Outcome\"] == 1].loc[data[attribute].notnull()]\n",
    "    #print(attribute,np.median(d0[attribute]),np.median(d1[attribute]))\n",
    "    lst.append([attribute,np.median(d0[attribute]),np.median(d1[attribute])])\n",
    "pd.DataFrame(lst,columns=[\"Feature\",\"Median for Nondiabetic\",\"Median for diabetic\"])"
   ]
  },
  {
   "cell_type": "markdown",
   "metadata": {},
   "source": [
    "Conclusion: Class oriented medians are different for each feature. So, we are going to replace missing values by  class-oriented median value for corresponding feature."
   ]
  },
  {
   "cell_type": "markdown",
   "metadata": {},
   "source": [
    "### Handling Missing Values\n",
    "We imputed missing value using class-oriented median values for each feature. "
   ]
  },
  {
   "cell_type": "code",
   "execution_count": 16,
   "metadata": {},
   "outputs": [
    {
     "data": {
      "text/html": [
       "<div>\n",
       "<style scoped>\n",
       "    .dataframe tbody tr th:only-of-type {\n",
       "        vertical-align: middle;\n",
       "    }\n",
       "\n",
       "    .dataframe tbody tr th {\n",
       "        vertical-align: top;\n",
       "    }\n",
       "\n",
       "    .dataframe thead th {\n",
       "        text-align: right;\n",
       "    }\n",
       "</style>\n",
       "<table border=\"1\" class=\"dataframe\">\n",
       "  <thead>\n",
       "    <tr style=\"text-align: right;\">\n",
       "      <th></th>\n",
       "      <th>Pregnancies</th>\n",
       "      <th>Glucose</th>\n",
       "      <th>BloodPressure</th>\n",
       "      <th>SkinThickness</th>\n",
       "      <th>Insulin</th>\n",
       "      <th>BMI</th>\n",
       "      <th>DiabetesPedigreeFunction</th>\n",
       "      <th>Age</th>\n",
       "      <th>Outcome</th>\n",
       "    </tr>\n",
       "  </thead>\n",
       "  <tbody>\n",
       "    <tr>\n",
       "      <th>0</th>\n",
       "      <td>6</td>\n",
       "      <td>148.0</td>\n",
       "      <td>72.0</td>\n",
       "      <td>35.0</td>\n",
       "      <td>169.5</td>\n",
       "      <td>33.6</td>\n",
       "      <td>0.627</td>\n",
       "      <td>50</td>\n",
       "      <td>1</td>\n",
       "    </tr>\n",
       "    <tr>\n",
       "      <th>1</th>\n",
       "      <td>1</td>\n",
       "      <td>85.0</td>\n",
       "      <td>66.0</td>\n",
       "      <td>29.0</td>\n",
       "      <td>102.5</td>\n",
       "      <td>26.6</td>\n",
       "      <td>0.351</td>\n",
       "      <td>31</td>\n",
       "      <td>0</td>\n",
       "    </tr>\n",
       "    <tr>\n",
       "      <th>2</th>\n",
       "      <td>8</td>\n",
       "      <td>183.0</td>\n",
       "      <td>64.0</td>\n",
       "      <td>32.0</td>\n",
       "      <td>169.5</td>\n",
       "      <td>23.3</td>\n",
       "      <td>0.672</td>\n",
       "      <td>32</td>\n",
       "      <td>1</td>\n",
       "    </tr>\n",
       "    <tr>\n",
       "      <th>3</th>\n",
       "      <td>1</td>\n",
       "      <td>89.0</td>\n",
       "      <td>66.0</td>\n",
       "      <td>23.0</td>\n",
       "      <td>94.0</td>\n",
       "      <td>28.1</td>\n",
       "      <td>0.167</td>\n",
       "      <td>21</td>\n",
       "      <td>0</td>\n",
       "    </tr>\n",
       "    <tr>\n",
       "      <th>4</th>\n",
       "      <td>0</td>\n",
       "      <td>137.0</td>\n",
       "      <td>40.0</td>\n",
       "      <td>35.0</td>\n",
       "      <td>168.0</td>\n",
       "      <td>43.1</td>\n",
       "      <td>2.288</td>\n",
       "      <td>33</td>\n",
       "      <td>1</td>\n",
       "    </tr>\n",
       "  </tbody>\n",
       "</table>\n",
       "</div>"
      ],
      "text/plain": [
       "   Pregnancies  Glucose  BloodPressure  SkinThickness  Insulin   BMI  \\\n",
       "0            6    148.0           72.0           35.0    169.5  33.6   \n",
       "1            1     85.0           66.0           29.0    102.5  26.6   \n",
       "2            8    183.0           64.0           32.0    169.5  23.3   \n",
       "3            1     89.0           66.0           23.0     94.0  28.1   \n",
       "4            0    137.0           40.0           35.0    168.0  43.1   \n",
       "\n",
       "   DiabetesPedigreeFunction  Age  Outcome  \n",
       "0                     0.627   50        1  \n",
       "1                     0.351   31        0  \n",
       "2                     0.672   32        1  \n",
       "3                     0.167   21        0  \n",
       "4                     2.288   33        1  "
      ]
     },
     "execution_count": 16,
     "metadata": {},
     "output_type": "execute_result"
    }
   ],
   "source": [
    "##fill missing values by  class-oriented median value for corresponding feature\n",
    "cols=['Glucose','BloodPressure','SkinThickness','Insulin','BMI']\n",
    "for attribute in cols:\n",
    "    d0=data.loc[data[\"Outcome\"] == 0].loc[data[attribute].notnull()]\n",
    "    d1=data.loc[data[\"Outcome\"] == 1].loc[data[attribute].notnull()]\n",
    "    \n",
    "    data.loc[(data.Outcome==0)&(data[attribute].isnull()),attribute]=np.median(d0[attribute])\n",
    "    data.loc[(data.Outcome==1)&(data[attribute].isnull()),attribute]=np.median(d1[attribute])\n",
    "data.head()"
   ]
  },
  {
   "cell_type": "code",
   "execution_count": 17,
   "metadata": {},
   "outputs": [
    {
     "data": {
      "text/plain": [
       "Pregnancies                 False\n",
       "Glucose                     False\n",
       "BloodPressure               False\n",
       "SkinThickness               False\n",
       "Insulin                     False\n",
       "BMI                         False\n",
       "DiabetesPedigreeFunction    False\n",
       "Age                         False\n",
       "Outcome                     False\n",
       "dtype: bool"
      ]
     },
     "execution_count": 17,
     "metadata": {},
     "output_type": "execute_result"
    }
   ],
   "source": [
    "#check\n",
    "data.isnull().any()"
   ]
  },
  {
   "cell_type": "markdown",
   "metadata": {},
   "source": [
    "### Correlation\n",
    "To check Multicollinearity"
   ]
  },
  {
   "cell_type": "code",
   "execution_count": 18,
   "metadata": {},
   "outputs": [
    {
     "data": {
      "image/png": "[encoded data removed]",
      "text/plain": [
       "<Figure size 1080x360 with 2 Axes>"
      ]
     },
     "metadata": {
      "needs_background": "light"
     },
     "output_type": "display_data"
    }
   ],
   "source": [
    "## Correlation\n",
    "X=data.iloc[:,:-1]\n",
    "import seaborn as sns\n",
    "import matplotlib.pyplot as plt\n",
    "#plot heat map\n",
    "plt.figure(figsize=(15,5))\n",
    "hm=sns.heatmap(X.corr(),annot=True,cmap=\"RdYlGn\")"
   ]
  },
  {
   "cell_type": "markdown",
   "metadata": {},
   "source": [
    "* There is no obvious correlation between the attributes. .i.e. no multicollinearity. "
   ]
  },
  {
   "cell_type": "markdown",
   "metadata": {},
   "source": [
    "### StandardScaler\n",
    "* We standardize the Feature columns to bring them on same scale. "
   ]
  },
  {
   "cell_type": "code",
   "execution_count": 19,
   "metadata": {},
   "outputs": [
    {
     "data": {
      "text/html": [
       "<div>\n",
       "<style scoped>\n",
       "    .dataframe tbody tr th:only-of-type {\n",
       "        vertical-align: middle;\n",
       "    }\n",
       "\n",
       "    .dataframe tbody tr th {\n",
       "        vertical-align: top;\n",
       "    }\n",
       "\n",
       "    .dataframe thead th {\n",
       "        text-align: right;\n",
       "    }\n",
       "</style>\n",
       "<table border=\"1\" class=\"dataframe\">\n",
       "  <thead>\n",
       "    <tr style=\"text-align: right;\">\n",
       "      <th></th>\n",
       "      <th>Pregnancies</th>\n",
       "      <th>Glucose</th>\n",
       "      <th>BloodPressure</th>\n",
       "      <th>SkinThickness</th>\n",
       "      <th>Insulin</th>\n",
       "      <th>BMI</th>\n",
       "      <th>DiabetesPedigreeFunction</th>\n",
       "      <th>Age</th>\n",
       "    </tr>\n",
       "  </thead>\n",
       "  <tbody>\n",
       "    <tr>\n",
       "      <th>0</th>\n",
       "      <td>0.639947</td>\n",
       "      <td>0.864625</td>\n",
       "      <td>-0.032180</td>\n",
       "      <td>0.665181</td>\n",
       "      <td>0.311604</td>\n",
       "      <td>0.169483</td>\n",
       "      <td>0.468492</td>\n",
       "      <td>1.425995</td>\n",
       "    </tr>\n",
       "    <tr>\n",
       "      <th>1</th>\n",
       "      <td>-0.844885</td>\n",
       "      <td>-1.204727</td>\n",
       "      <td>-0.528124</td>\n",
       "      <td>-0.010112</td>\n",
       "      <td>-0.440843</td>\n",
       "      <td>-0.848549</td>\n",
       "      <td>-0.365061</td>\n",
       "      <td>-0.190672</td>\n",
       "    </tr>\n",
       "    <tr>\n",
       "      <th>2</th>\n",
       "      <td>1.233880</td>\n",
       "      <td>2.014265</td>\n",
       "      <td>-0.693438</td>\n",
       "      <td>0.327535</td>\n",
       "      <td>0.311604</td>\n",
       "      <td>-1.328478</td>\n",
       "      <td>0.604397</td>\n",
       "      <td>-0.105584</td>\n",
       "    </tr>\n",
       "    <tr>\n",
       "      <th>3</th>\n",
       "      <td>-0.844885</td>\n",
       "      <td>-1.073339</td>\n",
       "      <td>-0.528124</td>\n",
       "      <td>-0.685405</td>\n",
       "      <td>-0.536303</td>\n",
       "      <td>-0.630399</td>\n",
       "      <td>-0.920763</td>\n",
       "      <td>-1.041549</td>\n",
       "    </tr>\n",
       "    <tr>\n",
       "      <th>4</th>\n",
       "      <td>-1.141852</td>\n",
       "      <td>0.503310</td>\n",
       "      <td>-2.677212</td>\n",
       "      <td>0.665181</td>\n",
       "      <td>0.294758</td>\n",
       "      <td>1.551096</td>\n",
       "      <td>5.484909</td>\n",
       "      <td>-0.020496</td>\n",
       "    </tr>\n",
       "  </tbody>\n",
       "</table>\n",
       "</div>"
      ],
      "text/plain": [
       "   Pregnancies   Glucose  BloodPressure  SkinThickness   Insulin       BMI  \\\n",
       "0     0.639947  0.864625      -0.032180       0.665181  0.311604  0.169483   \n",
       "1    -0.844885 -1.204727      -0.528124      -0.010112 -0.440843 -0.848549   \n",
       "2     1.233880  2.014265      -0.693438       0.327535  0.311604 -1.328478   \n",
       "3    -0.844885 -1.073339      -0.528124      -0.685405 -0.536303 -0.630399   \n",
       "4    -1.141852  0.503310      -2.677212       0.665181  0.294758  1.551096   \n",
       "\n",
       "   DiabetesPedigreeFunction       Age  \n",
       "0                  0.468492  1.425995  \n",
       "1                 -0.365061 -0.190672  \n",
       "2                  0.604397 -0.105584  \n",
       "3                 -0.920763 -1.041549  \n",
       "4                  5.484909 -0.020496  "
      ]
     },
     "execution_count": 19,
     "metadata": {},
     "output_type": "execute_result"
    }
   ],
   "source": [
    "X=data.iloc[:,:-1]\n",
    "from sklearn.preprocessing import StandardScaler\n",
    "sc_data=StandardScaler().fit_transform(X)\n",
    "X=pd.DataFrame(sc_data, columns=X.columns,index=X.index)\n",
    "X.head()"
   ]
  },
  {
   "cell_type": "code",
   "execution_count": 21,
   "metadata": {},
   "outputs": [
    {
     "data": {
      "text/plain": [
       "((768, 8), (768,))"
      ]
     },
     "execution_count": 21,
     "metadata": {},
     "output_type": "execute_result"
    }
   ],
   "source": [
    "#feature \n",
    "X=X\n",
    "#target\n",
    "y=data.iloc[:,-1]\n",
    "X.shape, y.shape"
   ]
  },
  {
   "cell_type": "markdown",
   "metadata": {},
   "source": [
    "# 1.Holdout Method \n",
    "To train different models we use Hold out method in which we split the data into 2 parts i.e. training data and testing data. 70% of the data is used to train the model and remaining 30% data is used to test the model."
   ]
  },
  {
   "cell_type": "markdown",
   "metadata": {},
   "source": [
    "### Train Test Split"
   ]
  },
  {
   "cell_type": "code",
   "execution_count": 23,
   "metadata": {},
   "outputs": [],
   "source": [
    "## Train Test Split\n",
    "from sklearn.model_selection import train_test_split\n",
    "X_train, X_test, y_train, y_test = train_test_split(X, y, test_size = 0.30, random_state=10)"
   ]
  },
  {
   "cell_type": "markdown",
   "metadata": {},
   "source": [
    "### Balance the training data using oversampling technique."
   ]
  },
  {
   "cell_type": "code",
   "execution_count": 24,
   "metadata": {},
   "outputs": [
    {
     "data": {
      "text/html": [
       "<div>\n",
       "<style scoped>\n",
       "    .dataframe tbody tr th:only-of-type {\n",
       "        vertical-align: middle;\n",
       "    }\n",
       "\n",
       "    .dataframe tbody tr th {\n",
       "        vertical-align: top;\n",
       "    }\n",
       "\n",
       "    .dataframe thead th {\n",
       "        text-align: right;\n",
       "    }\n",
       "</style>\n",
       "<table border=\"1\" class=\"dataframe\">\n",
       "  <thead>\n",
       "    <tr style=\"text-align: right;\">\n",
       "      <th></th>\n",
       "      <th>Pregnancies</th>\n",
       "      <th>Glucose</th>\n",
       "      <th>BloodPressure</th>\n",
       "      <th>SkinThickness</th>\n",
       "      <th>Insulin</th>\n",
       "      <th>BMI</th>\n",
       "      <th>DiabetesPedigreeFunction</th>\n",
       "      <th>Age</th>\n",
       "      <th>Outcome</th>\n",
       "    </tr>\n",
       "  </thead>\n",
       "  <tbody>\n",
       "    <tr>\n",
       "      <th>491</th>\n",
       "      <td>-0.547919</td>\n",
       "      <td>-1.073339</td>\n",
       "      <td>1.455650</td>\n",
       "      <td>0.102437</td>\n",
       "      <td>-0.440843</td>\n",
       "      <td>0.154939</td>\n",
       "      <td>-0.543248</td>\n",
       "      <td>0.745293</td>\n",
       "      <td>0</td>\n",
       "    </tr>\n",
       "    <tr>\n",
       "      <th>69</th>\n",
       "      <td>0.046014</td>\n",
       "      <td>0.798931</td>\n",
       "      <td>1.042364</td>\n",
       "      <td>-0.235210</td>\n",
       "      <td>-0.468919</td>\n",
       "      <td>-0.514053</td>\n",
       "      <td>-0.854320</td>\n",
       "      <td>-0.531023</td>\n",
       "      <td>0</td>\n",
       "    </tr>\n",
       "    <tr>\n",
       "      <th>667</th>\n",
       "      <td>1.827813</td>\n",
       "      <td>-0.350709</td>\n",
       "      <td>-0.197495</td>\n",
       "      <td>-0.235210</td>\n",
       "      <td>0.311604</td>\n",
       "      <td>-0.717659</td>\n",
       "      <td>-0.999286</td>\n",
       "      <td>0.575118</td>\n",
       "      <td>1</td>\n",
       "    </tr>\n",
       "    <tr>\n",
       "      <th>566</th>\n",
       "      <td>-0.844885</td>\n",
       "      <td>-0.744871</td>\n",
       "      <td>-0.032180</td>\n",
       "      <td>0.102437</td>\n",
       "      <td>-1.389825</td>\n",
       "      <td>0.896648</td>\n",
       "      <td>-0.180834</td>\n",
       "      <td>-1.041549</td>\n",
       "      <td>0</td>\n",
       "    </tr>\n",
       "  </tbody>\n",
       "</table>\n",
       "</div>"
      ],
      "text/plain": [
       "     Pregnancies   Glucose  BloodPressure  SkinThickness   Insulin       BMI  \\\n",
       "491    -0.547919 -1.073339       1.455650       0.102437 -0.440843  0.154939   \n",
       "69      0.046014  0.798931       1.042364      -0.235210 -0.468919 -0.514053   \n",
       "667     1.827813 -0.350709      -0.197495      -0.235210  0.311604 -0.717659   \n",
       "566    -0.844885 -0.744871      -0.032180       0.102437 -1.389825  0.896648   \n",
       "\n",
       "     DiabetesPedigreeFunction       Age  Outcome  \n",
       "491                 -0.543248  0.745293        0  \n",
       "69                  -0.854320 -0.531023        0  \n",
       "667                 -0.999286  0.575118        1  \n",
       "566                 -0.180834 -1.041549        0  "
      ]
     },
     "execution_count": 24,
     "metadata": {},
     "output_type": "execute_result"
    }
   ],
   "source": [
    "#concatenate our training data back together\n",
    "import pandas as pd\n",
    "Train=pd.concat([X_train,y_train],axis=1)\n",
    "Train.head(4)"
   ]
  },
  {
   "cell_type": "code",
   "execution_count": 25,
   "metadata": {},
   "outputs": [
    {
     "name": "stdout",
     "output_type": "stream",
     "text": [
      "0    356\n",
      "1    181\n",
      "Name: Outcome, dtype: int64\n"
     ]
    },
    {
     "data": {
      "image/png": "[encoded data removed]",
      "text/plain": [
       "<Figure size 432x360 with 1 Axes>"
      ]
     },
     "metadata": {
      "needs_background": "light"
     },
     "output_type": "display_data"
    }
   ],
   "source": [
    "#count target values of training data\n",
    "print(Train.Outcome.value_counts())\n",
    "#countplot\n",
    "fig=plt.figure(figsize=(6,5))\n",
    "axis=sns.countplot(Train.Outcome)\n",
    "plt.title(\"Count plot for classes with imbalanced training data\",fontsize=14)\n",
    "plt.xlabel(\"Class\",fontsize=14)\n",
    "plt.ylabel(\"Count\",fontsize=14)\n",
    "\n",
    "for p in axis.patches:\n",
    "    height = p.get_height()\n",
    "    axis.text( p.get_x() + p.get_width()/2, height+2,'{:1.4f}'.format(height), ha=\"center\",fontsize=14) \n",
    "plt.show()"
   ]
  },
  {
   "cell_type": "code",
   "execution_count": 26,
   "metadata": {},
   "outputs": [
    {
     "name": "stdout",
     "output_type": "stream",
     "text": [
      "0    356\n",
      "Name: Outcome, dtype: int64\n",
      "1    181\n",
      "Name: Outcome, dtype: int64\n"
     ]
    }
   ],
   "source": [
    "#Seperate minority and majority classes\n",
    "false=Train[Train.Outcome==0]\n",
    "true=Train[Train.Outcome==1]\n",
    "\n",
    "print(false.Outcome.value_counts())\n",
    "print(true.Outcome.value_counts())"
   ]
  },
  {
   "cell_type": "code",
   "execution_count": 27,
   "metadata": {},
   "outputs": [],
   "source": [
    "#upsampled minority\n",
    "from  sklearn.utils import resample \n",
    "\n",
    "true_upsampled=resample(true,\n",
    "                        replace=True, #sample with replacement\n",
    "                        n_samples=len(false),# match no in majority\n",
    "                        random_state=10)"
   ]
  },
  {
   "cell_type": "code",
   "execution_count": 28,
   "metadata": {},
   "outputs": [
    {
     "data": {
      "text/plain": [
       "1    356\n",
       "0    356\n",
       "Name: Outcome, dtype: int64"
      ]
     },
     "execution_count": 28,
     "metadata": {},
     "output_type": "execute_result"
    }
   ],
   "source": [
    "upsampled=pd.concat([true_upsampled,false])\n",
    "upsampled.Outcome.value_counts()"
   ]
  },
  {
   "cell_type": "code",
   "execution_count": 29,
   "metadata": {},
   "outputs": [
    {
     "data": {
      "image/png": "[encoded data removed]",
      "text/plain": [
       "<Figure size 432x360 with 1 Axes>"
      ]
     },
     "metadata": {
      "needs_background": "light"
     },
     "output_type": "display_data"
    }
   ],
   "source": [
    "#Visualization of balanced count of target values\n",
    "fig=plt.figure(figsize=(6,5))\n",
    "axis=sns.countplot(upsampled.Outcome)\n",
    "plt.title(\"count plot with balanced training data\",fontsize=14)\n",
    "plt.xlabel(\"Class\",fontsize=14)\n",
    "plt.ylabel(\"Count\",fontsize=14)\n",
    "\n",
    "\n",
    "for p in axis.patches:\n",
    "    height = p.get_height()\n",
    "    axis.text( p.get_x() + p.get_width()/2, height+2,'{:1.4f}'.format(height), ha=\"center\",fontsize=14) \n",
    "plt.show()\n"
   ]
  },
  {
   "cell_type": "code",
   "execution_count": 30,
   "metadata": {},
   "outputs": [],
   "source": [
    "# Seperate Feature and target from balanced training data\n",
    "X_train=upsampled.drop('Outcome',axis=1)\n",
    "y_train=upsampled.Outcome"
   ]
  },
  {
   "cell_type": "markdown",
   "metadata": {},
   "source": [
    "### Build the models on training data and evaluate it using test data"
   ]
  },
  {
   "cell_type": "code",
   "execution_count": 31,
   "metadata": {},
   "outputs": [
    {
     "name": "stderr",
     "output_type": "stream",
     "text": [
      "C:\\Users\\hp\\Anaconda3\\lib\\site-packages\\sklearn\\ensemble\\weight_boosting.py:29: DeprecationWarning: numpy.core.umath_tests is an internal NumPy module and should not be imported. It will be removed in a future NumPy release.\n",
      "  from numpy.core.umath_tests import inner1d\n"
     ]
    }
   ],
   "source": [
    "#Required libraries\n",
    "from sklearn.linear_model import LogisticRegression\n",
    "from sklearn.tree import DecisionTreeClassifier\n",
    "from sklearn.neighbors import KNeighborsClassifier\n",
    "from sklearn.naive_bayes import GaussianNB\n",
    "from sklearn.svm import SVC\n",
    "from sklearn.ensemble import BaggingClassifier\n",
    "from sklearn.ensemble import RandomForestClassifier\n",
    "from sklearn.ensemble import GradientBoostingClassifier\n",
    "\n",
    "#For model evaluation\n",
    "from sklearn.metrics import accuracy_score,confusion_matrix,classification_report,precision_score,recall_score,f1_score,jaccard_similarity_score\n",
    "from sklearn.model_selection import cross_val_score"
   ]
  },
  {
   "cell_type": "code",
   "execution_count": 32,
   "metadata": {},
   "outputs": [
    {
     "name": "stdout",
     "output_type": "stream",
     "text": [
      "training accuracy score :0.7767\n",
      "testing accuracy score:0.7792\n",
      "confusion matrix :\n",
      "[[111  33]\n",
      " [ 18  69]]\n",
      "classification report :\n",
      "             precision    recall  f1-score   support\n",
      "\n",
      "          0       0.86      0.77      0.81       144\n",
      "          1       0.68      0.79      0.73        87\n",
      "\n",
      "avg / total       0.79      0.78      0.78       231\n",
      "\n"
     ]
    }
   ],
   "source": [
    "#logisticRegression \n",
    "#model\n",
    "from sklearn.linear_model import LogisticRegression\n",
    "model=LogisticRegression(random_state=10).fit(X_train, y_train.ravel())\n",
    "#predict\n",
    "prediction=model.predict(X_test)\n",
    "\n",
    "#Evaluation of model\n",
    "from sklearn.metrics import accuracy_score,precision_score,recall_score,f1_score,confusion_matrix,classification_report\n",
    "#accuracy\n",
    "print('training accuracy score :%.4f'%accuracy_score(y_train.ravel(),model.predict(X_train)))\n",
    "print('testing accuracy score:%.4f' %accuracy_score(prediction,y_test))\n",
    "\n",
    "#confusion_matrix\n",
    "print(\"confusion matrix :\")\n",
    "print(confusion_matrix(y_test,prediction))\n",
    "#classification report\n",
    "print(\"classification report :\")\n",
    "print(classification_report(y_test,prediction))\n"
   ]
  },
  {
   "cell_type": "code",
   "execution_count": 33,
   "metadata": {},
   "outputs": [
    {
     "name": "stdout",
     "output_type": "stream",
     "text": [
      "training accuracy score :1.0000\n",
      "testing accuracy score:0.8312\n",
      "confusion_matrix :\n",
      "[[127  17]\n",
      " [ 22  65]]\n",
      "classification_report :\n",
      "             precision    recall  f1-score   support\n",
      "\n",
      "          0       0.85      0.88      0.87       144\n",
      "          1       0.79      0.75      0.77        87\n",
      "\n",
      "avg / total       0.83      0.83      0.83       231\n",
      "\n"
     ]
    }
   ],
   "source": [
    "#Decision tree\n",
    "#model\n",
    "from sklearn.tree import DecisionTreeClassifier\n",
    "model = DecisionTreeClassifier(random_state=10,criterion='entropy').fit(X_train, y_train.ravel())\n",
    "#predict\n",
    "prediction=model.predict(X_test)\n",
    "\n",
    "#Evaluation of model\n",
    "from sklearn.metrics import accuracy_score,precision_score,recall_score,f1_score,confusion_matrix\n",
    "#accuracy\n",
    "print('training accuracy score :%.4f'%accuracy_score(y_train.ravel(),model.predict(X_train)))\n",
    "print('testing accuracy score:%.4f' %accuracy_score(prediction,y_test))\n",
    "\n",
    "#confusion_matrix\n",
    "print(\"confusion_matrix :\")\n",
    "print(confusion_matrix(y_test,prediction))\n",
    "#classification report\n",
    "print(\"classification_report :\")\n",
    "print(classification_report(y_test,prediction))"
   ]
  },
  {
   "cell_type": "code",
   "execution_count": 34,
   "metadata": {},
   "outputs": [
    {
     "name": "stdout",
     "output_type": "stream",
     "text": [
      "Best_k: 15\n"
     ]
    }
   ],
   "source": [
    "#For KNN : Programme to find value of \"n_neighbors\"  for which accuracy is high\n",
    "lst=[]\n",
    "for i in range(1,21):\n",
    "    from sklearn.neighbors import KNeighborsClassifier\n",
    "    model=KNeighborsClassifier(n_neighbors=i,p=2, metric='minkowski').fit(X_train,y_train.ravel())\n",
    "    #predict the responce for test dataset\n",
    "    prediction=model.predict(X_test)\n",
    "    #Model Evaluation\n",
    "    from sklearn.metrics import accuracy_score\n",
    "    accuracy =accuracy_score(y_test.ravel(),prediction.ravel())\n",
    "    lst.append(accuracy)\n",
    "k=np.array(lst).argmax()+1\n",
    "print(\"Best_k:\",k)"
   ]
  },
  {
   "cell_type": "code",
   "execution_count": 35,
   "metadata": {},
   "outputs": [
    {
     "name": "stdout",
     "output_type": "stream",
     "text": [
      "training accuracy score :0.8385\n",
      "testing accuracy score:0.8052\n",
      "confusion_matrix :\n",
      "[[114  30]\n",
      " [ 15  72]]\n",
      "classification_report :\n",
      "             precision    recall  f1-score   support\n",
      "\n",
      "          0       0.88      0.79      0.84       144\n",
      "          1       0.71      0.83      0.76        87\n",
      "\n",
      "avg / total       0.82      0.81      0.81       231\n",
      "\n"
     ]
    }
   ],
   "source": [
    "#KNN\n",
    "model=KNeighborsClassifier(n_neighbors=k,p=2, metric='minkowski').fit(X_train,y_train.ravel())\n",
    "#predict\n",
    "prediction=model.predict(X_test)\n",
    "\n",
    "#Evaluation of model\n",
    "from sklearn.metrics import accuracy_score,precision_score,recall_score,f1_score,confusion_matrix\n",
    "#accuracy\n",
    "print('training accuracy score :%.4f'%accuracy_score(y_train.ravel(),model.predict(X_train)))\n",
    "print('testing accuracy score:%.4f' %accuracy_score(prediction,y_test))\n",
    "#confusion_matrix\n",
    "print(\"confusion_matrix :\")\n",
    "print(confusion_matrix(y_test,prediction))\n",
    "#classification report\n",
    "print(\"classification_report :\")\n",
    "print(classification_report(y_test,prediction))"
   ]
  },
  {
   "cell_type": "code",
   "execution_count": 38,
   "metadata": {},
   "outputs": [
    {
     "name": "stdout",
     "output_type": "stream",
     "text": [
      "training accuracy score :1.0000\n",
      "testing accuracy score:0.8701\n",
      "confusion_matrix :\n",
      "[[128  16]\n",
      " [ 14  73]]\n",
      "classification_report :\n",
      "             precision    recall  f1-score   support\n",
      "\n",
      "          0       0.90      0.89      0.90       144\n",
      "          1       0.82      0.84      0.83        87\n",
      "\n",
      "avg / total       0.87      0.87      0.87       231\n",
      "\n"
     ]
    }
   ],
   "source": [
    "## Bagging model of Decision trees\n",
    "#base_model\n",
    "from sklearn.tree import DecisionTreeClassifier\n",
    "model = DecisionTreeClassifier(criterion='entropy')   \n",
    "\n",
    "#Bagging_model\n",
    "from sklearn.ensemble import BaggingClassifier\n",
    "model= BaggingClassifier(base_estimator=model, n_estimators=100, random_state=10).fit(X_train, y_train.ravel())\n",
    "#predict\n",
    "prediction=model.predict(X_test)\n",
    "\n",
    "#Evaluation of model\"\n",
    "from sklearn.metrics import accuracy_score,precision_score,recall_score,f1_score,confusion_matrix\n",
    "#accuracy\n",
    "print('training accuracy score :%.4f'%accuracy_score(y_train.ravel(),model.predict(X_train)))\n",
    "print('testing accuracy score:%.4f' %accuracy_score(prediction,y_test))\n",
    "\n",
    "#confusion_matrix\n",
    "print(\"confusion_matrix :\")\n",
    "print(confusion_matrix(y_test,prediction))\n",
    "#classification report\n",
    "print(\"classification_report :\")\n",
    "print(classification_report(y_test,prediction))"
   ]
  },
  {
   "cell_type": "code",
   "execution_count": 39,
   "metadata": {},
   "outputs": [
    {
     "name": "stdout",
     "output_type": "stream",
     "text": [
      "training accuracy score :1.0000\n",
      "testing accuracy score:0.8658\n",
      "confusion_matrix :\n",
      "[[129  15]\n",
      " [ 16  71]]\n",
      "classification_report :\n",
      "             precision    recall  f1-score   support\n",
      "\n",
      "          0       0.89      0.90      0.89       144\n",
      "          1       0.83      0.82      0.82        87\n",
      "\n",
      "avg / total       0.87      0.87      0.87       231\n",
      "\n"
     ]
    }
   ],
   "source": [
    "#RandomForest Classifier\n",
    "model=RandomForestClassifier(n_estimators=100,criterion='entropy',random_state=10).fit(X_train, y_train.ravel())    \n",
    "#model=RandomForestClassifier(n_estimators=100,random_state=10).fit(X_train, y_train.ravel())\n",
    "#predict\n",
    "prediction=model.predict(X_test)\n",
    "\n",
    "#Evaluation of model\n",
    "from sklearn.metrics import accuracy_score,precision_score,recall_score,f1_score,confusion_matrix\n",
    "#accuracy\n",
    "print('training accuracy score :%.4f'%accuracy_score(y_train.ravel(),model.predict(X_train)))\n",
    "print('testing accuracy score:%.4f' %accuracy_score(prediction,y_test))\n",
    "#confusion_matrix\n",
    "print(\"confusion_matrix :\")\n",
    "print(confusion_matrix(y_test,prediction))\n",
    "#classification report\n",
    "print(\"classification_report :\")\n",
    "print(classification_report(y_test,prediction))"
   ]
  },
  {
   "cell_type": "code",
   "execution_count": 79,
   "metadata": {},
   "outputs": [
    {
     "data": {
      "image/png": "[encoded data removed]",
      "text/plain": [
       "<Figure size 432x288 with 1 Axes>"
      ]
     },
     "metadata": {
      "needs_background": "light"
     },
     "output_type": "display_data"
    },
    {
     "data": {
      "text/html": [
       "<div>\n",
       "<style scoped>\n",
       "    .dataframe tbody tr th:only-of-type {\n",
       "        vertical-align: middle;\n",
       "    }\n",
       "\n",
       "    .dataframe tbody tr th {\n",
       "        vertical-align: top;\n",
       "    }\n",
       "\n",
       "    .dataframe thead th {\n",
       "        text-align: right;\n",
       "    }\n",
       "</style>\n",
       "<table border=\"1\" class=\"dataframe\">\n",
       "  <thead>\n",
       "    <tr style=\"text-align: right;\">\n",
       "      <th></th>\n",
       "      <th>Feature importance (in %)</th>\n",
       "    </tr>\n",
       "  </thead>\n",
       "  <tbody>\n",
       "    <tr>\n",
       "      <th>Insulin</th>\n",
       "      <td>32.69</td>\n",
       "    </tr>\n",
       "    <tr>\n",
       "      <th>Glucose</th>\n",
       "      <td>15.37</td>\n",
       "    </tr>\n",
       "    <tr>\n",
       "      <th>SkinThickness</th>\n",
       "      <td>13.50</td>\n",
       "    </tr>\n",
       "    <tr>\n",
       "      <th>Age</th>\n",
       "      <td>10.96</td>\n",
       "    </tr>\n",
       "    <tr>\n",
       "      <th>BMI</th>\n",
       "      <td>9.90</td>\n",
       "    </tr>\n",
       "    <tr>\n",
       "      <th>DiabetesPedigreeFunction</th>\n",
       "      <td>7.72</td>\n",
       "    </tr>\n",
       "    <tr>\n",
       "      <th>BloodPressure</th>\n",
       "      <td>4.93</td>\n",
       "    </tr>\n",
       "    <tr>\n",
       "      <th>Pregnancies</th>\n",
       "      <td>4.93</td>\n",
       "    </tr>\n",
       "  </tbody>\n",
       "</table>\n",
       "</div>"
      ],
      "text/plain": [
       "                          Feature importance (in %)\n",
       "Insulin                                       32.69\n",
       "Glucose                                       15.37\n",
       "SkinThickness                                 13.50\n",
       "Age                                           10.96\n",
       "BMI                                            9.90\n",
       "DiabetesPedigreeFunction                       7.72\n",
       "BloodPressure                                  4.93\n",
       "Pregnancies                                    4.93"
      ]
     },
     "execution_count": 79,
     "metadata": {},
     "output_type": "execute_result"
    }
   ],
   "source": [
    "#feature_importances\n",
    "feature_imp=pd.Series(model.feature_importances_, index=X.columns).sort_values(ascending=False) \n",
    "\n",
    "sns.barplot(x=feature_imp,y=feature_imp.index)\n",
    "plt.title(\"Feature Importances using barplot\",fontsize=14)\n",
    "plt.xlabel(\"Feature_importance\",fontsize=14)\n",
    "plt.ylabel(\"Features\",fontsize=14)\n",
    "plt.show()\n",
    "\n",
    "pd.DataFrame(feature_imp*100 , columns=[\"Feature importance (in %)\"]).round(2)"
   ]
  },
  {
   "cell_type": "markdown",
   "metadata": {},
   "source": [
    "### Making final report table for all algorithms (Using HoldOut Method.)"
   ]
  },
  {
   "cell_type": "code",
   "execution_count": 40,
   "metadata": {},
   "outputs": [
    {
     "name": "stdout",
     "output_type": "stream",
     "text": [
      "Best_k: 15\n"
     ]
    }
   ],
   "source": [
    "#For KNN : Programme to find value of \"n_neighbors\"  for which accuracy is high\n",
    "lst=[]\n",
    "for i in range(1,21):\n",
    "    from sklearn.neighbors import KNeighborsClassifier\n",
    "    model=KNeighborsClassifier(n_neighbors=i,p=2, metric='minkowski').fit(X_train,y_train.ravel())\n",
    "    #predict the responce for test dataset\n",
    "    prediction=model.predict(X_test)\n",
    "    #Model Evaluation\n",
    "    from sklearn.metrics import accuracy_score\n",
    "    accuracy =accuracy_score(y_test.ravel(),prediction.ravel())\n",
    "    lst.append(accuracy)\n",
    "k=np.array(lst).argmax()+1\n",
    "print(\"Best_k:\",k)"
   ]
  },
  {
   "cell_type": "code",
   "execution_count": 41,
   "metadata": {},
   "outputs": [],
   "source": [
    "#Appending all different machine learning models in a single list.\n",
    "models = []\n",
    "models.append(('LR', LogisticRegression(random_state=10)))\n",
    "models.append(('DT', DecisionTreeClassifier(criterion='entropy',random_state=10)))\n",
    "models.append(('KNN', KNeighborsClassifier(n_neighbors=k,p=2, metric='minkowski')))\n",
    "#ensemble_learning_techniques\n",
    "models.append((\"BC\",(BaggingClassifier(base_estimator=DecisionTreeClassifier(criterion='entropy') , n_estimators=100, random_state=10))))\n",
    "models.append(('RF', RandomForestClassifier(n_estimators=100,criterion='entropy',random_state=10)))"
   ]
  },
  {
   "cell_type": "code",
   "execution_count": 42,
   "metadata": {},
   "outputs": [],
   "source": [
    "#Libraries\n",
    "from sklearn.metrics import confusion_matrix,accuracy_score,precision_score,recall_score,f1_score, roc_auc_score\n",
    "\n",
    "#Define a function to bulid  and evaluate the model\n",
    "#Empty dataframe\n",
    "METRICS=pd.DataFrame(index=[],columns=[])\n",
    "def ML1(name,model):\n",
    "    #Hold_out method:\n",
    "    #print(name)\n",
    "    model=model.fit(X_train,y_train)\n",
    "    prediction=model.predict(X_test)\n",
    "    #print(confusion_matrix(y_test,prediction)) \n",
    "    TN,FP,FN,TP=confusion_matrix(y_test,prediction).ravel()\n",
    "    #for final comparison\n",
    "    METRICS.loc[name,'training_acc']=accuracy_score(y_train.ravel(),model.predict(X_train))\n",
    "    METRICS.loc[name,'testing_acc']=accuracy_score(y_test.ravel(),prediction)\n",
    "    METRICS.loc[name,'precision']=precision_score(y_test.ravel(),prediction)\n",
    "    METRICS.loc[name,'recall']=recall_score(y_test.ravel(),prediction)\n",
    "    METRICS.loc[name,\"f1_score\"]=f1_score(y_test.ravel(),prediction)\n",
    "    METRICS.loc[name,'Sensitivity']=TP/(TP+FN)\n",
    "    METRICS.loc[name,'Specificity']=TN/(TN+FP)\n",
    "    METRICS.loc[name,'roc_auc_score']=roc_auc_score(y_test,prediction)"
   ]
  },
  {
   "cell_type": "markdown",
   "metadata": {},
   "source": [
    "### Report table "
   ]
  },
  {
   "cell_type": "code",
   "execution_count": 43,
   "metadata": {
    "scrolled": true
   },
   "outputs": [
    {
     "data": {
      "text/html": [
       "<div>\n",
       "<style scoped>\n",
       "    .dataframe tbody tr th:only-of-type {\n",
       "        vertical-align: middle;\n",
       "    }\n",
       "\n",
       "    .dataframe tbody tr th {\n",
       "        vertical-align: top;\n",
       "    }\n",
       "\n",
       "    .dataframe thead th {\n",
       "        text-align: right;\n",
       "    }\n",
       "</style>\n",
       "<table border=\"1\" class=\"dataframe\">\n",
       "  <thead>\n",
       "    <tr style=\"text-align: right;\">\n",
       "      <th></th>\n",
       "      <th>training_acc</th>\n",
       "      <th>testing_acc</th>\n",
       "      <th>precision</th>\n",
       "      <th>recall</th>\n",
       "      <th>f1_score</th>\n",
       "      <th>Sensitivity</th>\n",
       "      <th>Specificity</th>\n",
       "      <th>roc_auc_score</th>\n",
       "    </tr>\n",
       "  </thead>\n",
       "  <tbody>\n",
       "    <tr>\n",
       "      <th>LR</th>\n",
       "      <td>77.67</td>\n",
       "      <td>77.92</td>\n",
       "      <td>67.65</td>\n",
       "      <td>79.31</td>\n",
       "      <td>73.02</td>\n",
       "      <td>79.31</td>\n",
       "      <td>77.08</td>\n",
       "      <td>78.20</td>\n",
       "    </tr>\n",
       "    <tr>\n",
       "      <th>DT</th>\n",
       "      <td>100.00</td>\n",
       "      <td>83.12</td>\n",
       "      <td>79.27</td>\n",
       "      <td>74.71</td>\n",
       "      <td>76.92</td>\n",
       "      <td>74.71</td>\n",
       "      <td>88.19</td>\n",
       "      <td>81.45</td>\n",
       "    </tr>\n",
       "    <tr>\n",
       "      <th>KNN</th>\n",
       "      <td>83.85</td>\n",
       "      <td>80.52</td>\n",
       "      <td>70.59</td>\n",
       "      <td>82.76</td>\n",
       "      <td>76.19</td>\n",
       "      <td>82.76</td>\n",
       "      <td>79.17</td>\n",
       "      <td>80.96</td>\n",
       "    </tr>\n",
       "    <tr>\n",
       "      <th>BC</th>\n",
       "      <td>100.00</td>\n",
       "      <td>87.01</td>\n",
       "      <td>82.02</td>\n",
       "      <td>83.91</td>\n",
       "      <td>82.95</td>\n",
       "      <td>83.91</td>\n",
       "      <td>88.89</td>\n",
       "      <td>86.40</td>\n",
       "    </tr>\n",
       "    <tr>\n",
       "      <th>RF</th>\n",
       "      <td>100.00</td>\n",
       "      <td>86.58</td>\n",
       "      <td>82.56</td>\n",
       "      <td>81.61</td>\n",
       "      <td>82.08</td>\n",
       "      <td>81.61</td>\n",
       "      <td>89.58</td>\n",
       "      <td>85.60</td>\n",
       "    </tr>\n",
       "  </tbody>\n",
       "</table>\n",
       "</div>"
      ],
      "text/plain": [
       "     training_acc  testing_acc  precision  recall  f1_score  Sensitivity  \\\n",
       "LR          77.67        77.92      67.65   79.31     73.02        79.31   \n",
       "DT         100.00        83.12      79.27   74.71     76.92        74.71   \n",
       "KNN         83.85        80.52      70.59   82.76     76.19        82.76   \n",
       "BC         100.00        87.01      82.02   83.91     82.95        83.91   \n",
       "RF         100.00        86.58      82.56   81.61     82.08        81.61   \n",
       "\n",
       "     Specificity  roc_auc_score  \n",
       "LR         77.08          78.20  \n",
       "DT         88.19          81.45  \n",
       "KNN        79.17          80.96  \n",
       "BC         88.89          86.40  \n",
       "RF         89.58          85.60  "
      ]
     },
     "execution_count": 43,
     "metadata": {},
     "output_type": "execute_result"
    }
   ],
   "source": [
    "for (name,model) in models:\n",
    "    ML1(name,model) \n",
    "dframe1=100*METRICS\n",
    "dframe1.round(2)"
   ]
  },
  {
   "cell_type": "code",
   "execution_count": 44,
   "metadata": {
    "scrolled": true
   },
   "outputs": [
    {
     "data": {
      "image/png": "[encoded data removed]",
      "text/plain": [
       "<Figure size 432x288 with 1 Axes>"
      ]
     },
     "metadata": {
      "needs_background": "light"
     },
     "output_type": "display_data"
    }
   ],
   "source": [
    "#We can plot the testing accuracy scores  using seaborn\n",
    "x_var = dframe1.index\n",
    "y_var = dframe1.iloc[:,1]  #testing_acc\n",
    "\n",
    "plt.figure(figsize=(6,4))\n",
    "import seaborn as sns\n",
    "axis = sns.barplot(x_var,y_var)\n",
    "axis.set(xlabel='Classifiers', ylabel='Accuracy')\n",
    "axis.set_title(\"Bar Plot for comparison of testing accuracies(in %) of different models\")\n",
    "\n",
    "for p in axis.patches:\n",
    "    height = p.get_height()\n",
    "    axis.text( p.get_x() + p.get_width()/2, height+0.8,'{:1.4f}'.format(height), ha=\"center\") \n",
    "    \n",
    "plt.show()"
   ]
  },
  {
   "cell_type": "markdown",
   "metadata": {},
   "source": [
    "From the above table and barplot  we can easily identify that  accuracy score on the test data for BaggingClassifier is 87.01% & higher than the accuracy scores provided by all other classifiers. But RandomForest also provides good accuracy scores i.e 86.58%\n",
    "\n",
    "#But sometimes choosing a best model using only accuracy scores on test data will mislead us, because there may be a chance of more False positives or more False negatives during the classification by model.\n",
    "So we should also think about recall,precision, f1_score , sensitivity and specificity for each of the model .\n",
    "Also, It is important to check discriminating power for each model so we find ROC_acc_scores also."
   ]
  },
  {
   "cell_type": "markdown",
   "metadata": {},
   "source": [
    "Findings: ,\n",
    "* According to the training accuracy scores-  \n",
    "   * DT, and Ensemble learning techniques  BC,RF and has good training accuracies 100%,100% & 99.01% respectively. It means these are the models which are more suitable to use among all.\n",
    "\n",
    "* Now according to testing  accuracy scores- \n",
    "  * DT, and Ensemble learning techniques  BC,RF has good testing accuracies 83.11%,87.01%,86.58% respectively.\n",
    "\n",
    "* Now according to precision scores- \n",
    "  * Ensemble learning techniques  RF ,BC and has good precision scores 82.55%,82.02% , & 81.11% respectively.And precision for all other algoriths is below 80%. False positives are less for these models.\n",
    "  \n",
    "  * But we should also have very low number of  False negatives  So we cannot decide only from precision scores because if only False positives are less & True positives are high  for a model then  it will provide high precision . So we must have to think about both precision and recall scores.\n",
    "\n",
    "* Now according to recall scores- \n",
    "  * SupportVectorClassifier has high recall value i.e 85.05% . It means False negatives are less for SVC.But note that pr \n",
    "  * then BC , GF and RF has good recall scores 83.90% , 83.90% and 81.60% respectively.\n",
    "  * Here also we can't decide best model using only recall score because here may be chance of getting higher no.s of False Positives . So we must have to think about both precision and recall scores , which is decided by f1_score.\n",
    "  \n",
    "* Now according to f1 scores- \n",
    "  * Ensemble learning techniques  BC and RF has high f1 scores 82.95% & 82.08% respectively among all other algorithms.\n",
    "\n",
    "* So we have to check discriminating power for the trained models using ROC  curve  in which we get  area under the curve\n",
    "  which is measured by ROC accuracy score.\n",
    "   * Ensemble learning techniques  BC and RF has high ROC accuracy scores 86.39% ,85.59% \n",
    "*  So from Hold out method we choose Bagging Classifier as a Best Classifier."
   ]
  },
  {
   "cell_type": "code",
   "execution_count": 45,
   "metadata": {},
   "outputs": [],
   "source": [
    "#ROC\n",
    "from sklearn.metrics import roc_auc_score\n",
    "from sklearn.metrics import roc_curve\n",
    "def plot_roc_curve(name,model):  \n",
    "    model=model\n",
    "    model.fit(X_train,y_train)\n",
    "    prediction=model.predict(X_test)\n",
    "    roc_auc=roc_auc_score(y_test,prediction)\n",
    "    fpr,tpr,thresholds= roc_curve(y_test,model.predict_proba(X_test)[:,1])\n",
    "    \n",
    "    plt.plot(fpr,tpr,label='%s ROC(area= %0.4f)' %(name,100*roc_auc))\n",
    "    plt.plot([0,1],[0,1],'r--')\n",
    "   \n",
    "    plt.xlim=([0,1])\n",
    "    plt.ylim=([0,1.05])\n",
    "    plt.xlabel('False Positive Rate')\n",
    "    plt.ylabel('True positive Rate')\n",
    "    plt.title('Receiver Operating Characteristic')\n",
    "    plt.legend(loc='lower right')"
   ]
  },
  {
   "cell_type": "code",
   "execution_count": 46,
   "metadata": {},
   "outputs": [
    {
     "data": {
      "image/png": "[encoded data removed]",
      "text/plain": [
       "<Figure size 432x288 with 1 Axes>"
      ]
     },
     "metadata": {
      "needs_background": "light"
     },
     "output_type": "display_data"
    }
   ],
   "source": [
    "for (name,model) in models:\n",
    "    plot_roc_curve(name,model)"
   ]
  },
  {
   "cell_type": "code",
   "execution_count": 47,
   "metadata": {},
   "outputs": [
    {
     "data": {
      "image/png": "[encoded data removed]",
      "text/plain": [
       "<Figure size 432x288 with 1 Axes>"
      ]
     },
     "metadata": {
      "needs_background": "light"
     },
     "output_type": "display_data"
    }
   ],
   "source": [
    "#plot_roc_curve('RF', RandomForestClassifier(n_estimators=100,criterion='entropy',random_state=10))\n",
    "plot_roc_curve('BC',BaggingClassifier(base_estimator=DecisionTreeClassifier(criterion='entropy') , n_estimators=100, random_state=10))"
   ]
  },
  {
   "cell_type": "markdown",
   "metadata": {},
   "source": [
    "Since discrimanating power is higher for Bagging classifier as compared to other classifiers so Bagging classifier is  choosen as best fitted model using Hold Out method."
   ]
  },
  {
   "cell_type": "markdown",
   "metadata": {},
   "source": [
    "### Therefore using Hold Out Method we choose Bagging Classifier as the best classifier"
   ]
  },
  {
   "cell_type": "markdown",
   "metadata": {},
   "source": [
    "# #==========================================================# #"
   ]
  },
  {
   "cell_type": "markdown",
   "metadata": {},
   "source": [
    "### 2.K-Fold Cross Validation with Scikit Learn :\n",
    "We will move forward with K-Fold cross validation as it is more accurate and use the data efficiently. We will train the models using 10 fold cross validation and calculate the mean accuracy of the models."
   ]
  },
  {
   "cell_type": "code",
   "execution_count": 48,
   "metadata": {},
   "outputs": [],
   "source": [
    "#For Evaluation using KFold\n",
    "from sklearn.model_selection import KFold,cross_val_score\n",
    "kf=KFold(n_splits=10, random_state=10)"
   ]
  },
  {
   "cell_type": "code",
   "execution_count": 49,
   "metadata": {},
   "outputs": [
    {
     "data": {
      "text/html": [
       "<div>\n",
       "<style scoped>\n",
       "    .dataframe tbody tr th:only-of-type {\n",
       "        vertical-align: middle;\n",
       "    }\n",
       "\n",
       "    .dataframe tbody tr th {\n",
       "        vertical-align: top;\n",
       "    }\n",
       "\n",
       "    .dataframe thead th {\n",
       "        text-align: right;\n",
       "    }\n",
       "</style>\n",
       "<table border=\"1\" class=\"dataframe\">\n",
       "  <thead>\n",
       "    <tr style=\"text-align: right;\">\n",
       "      <th></th>\n",
       "      <th>LR</th>\n",
       "      <th>DT</th>\n",
       "      <th>KNN</th>\n",
       "      <th>BC</th>\n",
       "      <th>RF</th>\n",
       "    </tr>\n",
       "  </thead>\n",
       "  <tbody>\n",
       "    <tr>\n",
       "      <th>0</th>\n",
       "      <td>77.9221</td>\n",
       "      <td>92.2078</td>\n",
       "      <td>75.3247</td>\n",
       "      <td>89.6104</td>\n",
       "      <td>85.7143</td>\n",
       "    </tr>\n",
       "    <tr>\n",
       "      <th>1</th>\n",
       "      <td>74.0260</td>\n",
       "      <td>84.4156</td>\n",
       "      <td>83.1169</td>\n",
       "      <td>88.3117</td>\n",
       "      <td>88.3117</td>\n",
       "    </tr>\n",
       "    <tr>\n",
       "      <th>2</th>\n",
       "      <td>74.0260</td>\n",
       "      <td>83.1169</td>\n",
       "      <td>81.8182</td>\n",
       "      <td>84.4156</td>\n",
       "      <td>84.4156</td>\n",
       "    </tr>\n",
       "    <tr>\n",
       "      <th>3</th>\n",
       "      <td>83.1169</td>\n",
       "      <td>79.2208</td>\n",
       "      <td>85.7143</td>\n",
       "      <td>85.7143</td>\n",
       "      <td>87.0130</td>\n",
       "    </tr>\n",
       "    <tr>\n",
       "      <th>4</th>\n",
       "      <td>84.4156</td>\n",
       "      <td>87.0130</td>\n",
       "      <td>83.1169</td>\n",
       "      <td>94.8052</td>\n",
       "      <td>92.2078</td>\n",
       "    </tr>\n",
       "    <tr>\n",
       "      <th>5</th>\n",
       "      <td>77.9221</td>\n",
       "      <td>87.0130</td>\n",
       "      <td>84.4156</td>\n",
       "      <td>92.2078</td>\n",
       "      <td>89.6104</td>\n",
       "    </tr>\n",
       "    <tr>\n",
       "      <th>6</th>\n",
       "      <td>70.1299</td>\n",
       "      <td>83.1169</td>\n",
       "      <td>77.9221</td>\n",
       "      <td>87.0130</td>\n",
       "      <td>89.6104</td>\n",
       "    </tr>\n",
       "    <tr>\n",
       "      <th>7</th>\n",
       "      <td>85.7143</td>\n",
       "      <td>84.4156</td>\n",
       "      <td>93.5065</td>\n",
       "      <td>92.2078</td>\n",
       "      <td>90.9091</td>\n",
       "    </tr>\n",
       "    <tr>\n",
       "      <th>8</th>\n",
       "      <td>72.3684</td>\n",
       "      <td>89.4737</td>\n",
       "      <td>76.3158</td>\n",
       "      <td>90.7895</td>\n",
       "      <td>88.1579</td>\n",
       "    </tr>\n",
       "    <tr>\n",
       "      <th>9</th>\n",
       "      <td>73.6842</td>\n",
       "      <td>75.0000</td>\n",
       "      <td>76.3158</td>\n",
       "      <td>81.5789</td>\n",
       "      <td>82.8947</td>\n",
       "    </tr>\n",
       "  </tbody>\n",
       "</table>\n",
       "</div>"
      ],
      "text/plain": [
       "        LR       DT      KNN       BC       RF\n",
       "0  77.9221  92.2078  75.3247  89.6104  85.7143\n",
       "1  74.0260  84.4156  83.1169  88.3117  88.3117\n",
       "2  74.0260  83.1169  81.8182  84.4156  84.4156\n",
       "3  83.1169  79.2208  85.7143  85.7143  87.0130\n",
       "4  84.4156  87.0130  83.1169  94.8052  92.2078\n",
       "5  77.9221  87.0130  84.4156  92.2078  89.6104\n",
       "6  70.1299  83.1169  77.9221  87.0130  89.6104\n",
       "7  85.7143  84.4156  93.5065  92.2078  90.9091\n",
       "8  72.3684  89.4737  76.3158  90.7895  88.1579\n",
       "9  73.6842  75.0000  76.3158  81.5789  82.8947"
      ]
     },
     "execution_count": 49,
     "metadata": {},
     "output_type": "execute_result"
    }
   ],
   "source": [
    "#KFold accuracy scores for each model\n",
    "df=pd.DataFrame()\n",
    "for (name,model) in models:    \n",
    "    kfold=KFold(n_splits=10,shuffle=True, random_state=10)\n",
    "    scores = cross_val_score(model, X, y.ravel(), cv=kfold, scoring='accuracy')\n",
    "    df[name]=scores\n",
    "df=df*100\n",
    "df.round(4)"
   ]
  },
  {
   "cell_type": "code",
   "execution_count": 50,
   "metadata": {
    "scrolled": false
   },
   "outputs": [
    {
     "data": {
      "text/plain": [
       "Text(0,0.5,'10-fold accuracies in % ')"
      ]
     },
     "execution_count": 50,
     "metadata": {},
     "output_type": "execute_result"
    },
    {
     "data": {
      "image/png": "[encoded data removed]",
      "text/plain": [
       "<Figure size 720x360 with 1 Axes>"
      ]
     },
     "metadata": {
      "needs_background": "light"
     },
     "output_type": "display_data"
    }
   ],
   "source": [
    "#Comparison of performance of models using Box plot \"\n",
    "df.boxplot(figsize=(10,5))\n",
    "plt.title(\"Comparison of performance of models using Box plot \")\n",
    "plt.xlabel(\"classifiers\")\n",
    "plt.ylabel(\"10-fold accuracies in % \")"
   ]
  },
  {
   "cell_type": "code",
   "execution_count": 51,
   "metadata": {},
   "outputs": [
    {
     "data": {
      "text/html": [
       "<div>\n",
       "<style scoped>\n",
       "    .dataframe tbody tr th:only-of-type {\n",
       "        vertical-align: middle;\n",
       "    }\n",
       "\n",
       "    .dataframe tbody tr th {\n",
       "        vertical-align: top;\n",
       "    }\n",
       "\n",
       "    .dataframe thead th {\n",
       "        text-align: right;\n",
       "    }\n",
       "</style>\n",
       "<table border=\"1\" class=\"dataframe\">\n",
       "  <thead>\n",
       "    <tr style=\"text-align: right;\">\n",
       "      <th></th>\n",
       "      <th>Classifier</th>\n",
       "      <th>Kfold_avg_acc</th>\n",
       "    </tr>\n",
       "  </thead>\n",
       "  <tbody>\n",
       "    <tr>\n",
       "      <th>0</th>\n",
       "      <td>LR</td>\n",
       "      <td>77.3325</td>\n",
       "    </tr>\n",
       "    <tr>\n",
       "      <th>1</th>\n",
       "      <td>DT</td>\n",
       "      <td>84.4993</td>\n",
       "    </tr>\n",
       "    <tr>\n",
       "      <th>2</th>\n",
       "      <td>KNN</td>\n",
       "      <td>81.7567</td>\n",
       "    </tr>\n",
       "    <tr>\n",
       "      <th>3</th>\n",
       "      <td>BC</td>\n",
       "      <td>88.6654</td>\n",
       "    </tr>\n",
       "    <tr>\n",
       "      <th>4</th>\n",
       "      <td>RF</td>\n",
       "      <td>87.8845</td>\n",
       "    </tr>\n",
       "  </tbody>\n",
       "</table>\n",
       "</div>"
      ],
      "text/plain": [
       "  Classifier  Kfold_avg_acc\n",
       "0         LR        77.3325\n",
       "1         DT        84.4993\n",
       "2        KNN        81.7567\n",
       "3         BC        88.6654\n",
       "4         RF        87.8845"
      ]
     },
     "execution_count": 51,
     "metadata": {},
     "output_type": "execute_result"
    }
   ],
   "source": [
    "#K-Fold Cross Validation\n",
    "from sklearn.model_selection import KFold,cross_val_score\n",
    "names = []\n",
    "scores = []\n",
    "\n",
    "kfold=KFold(n_splits=10,shuffle=True,random_state=10)\n",
    "for name, model in models:\n",
    "    score = cross_val_score(model, X, y.ravel(), cv=kfold, scoring='accuracy').mean()\n",
    "    names.append(name)\n",
    "    scores.append(100*score)  #----------score which is to be append in a list is multiplied by 100 to convert score in % \n",
    "df2 = pd.DataFrame({'Classifier': names, 'Kfold_avg_acc': scores})\n",
    "df2.round(4)"
   ]
  },
  {
   "cell_type": "code",
   "execution_count": 52,
   "metadata": {},
   "outputs": [
    {
     "data": {
      "image/png": "[encoded data removed]",
      "text/plain": [
       "<Figure size 720x360 with 1 Axes>"
      ]
     },
     "metadata": {
      "needs_background": "light"
     },
     "output_type": "display_data"
    }
   ],
   "source": [
    "#We can plot the accuracy scores using seaborn\n",
    "plt.figure(figsize=(10,5))\n",
    "axis = sns.barplot(x = 'Classifier', y = 'Kfold_avg_acc', data = df2)\n",
    "axis.set(xlabel='Classifiers', ylabel='Kfold_avg_accuracies')\n",
    "axis.set_title(\"Bar Plot for comparison of Kfold avg accuracies of different models\")\n",
    "for p in axis.patches:\n",
    "    height = p.get_height()\n",
    "    axis.text(p.get_x() + p.get_width()/2, height + 0.5, '{:1.4f}'.format(height), ha=\"center\") \n",
    "    \n",
    "plt.show()"
   ]
  },
  {
   "cell_type": "markdown",
   "metadata": {},
   "source": [
    "* From the above barplot we  can easily see that Bagging classifier has greater accuracy about 88.40%,Also  RandomForest Classifier performs well with accuracy scores 87.62 % \n",
    "* Decision tree has 84.36% accuracy score .\n",
    "* LR,KNN,GNB, and SVC has less accuracy scores."
   ]
  },
  {
   "cell_type": "markdown",
   "metadata": {},
   "source": [
    "### Therefore using KFold cross validation method, Bagging classifier choosen as a best fitted classifier for prediction of diabetes with 88.40% Kfold average accuracy "
   ]
  },
  {
   "cell_type": "code",
   "execution_count": null,
   "metadata": {},
   "outputs": [],
   "source": []
  },
  {
   "cell_type": "code",
   "execution_count": null,
   "metadata": {},
   "outputs": [],
   "source": []
  }
 ],
 "metadata": {
  "kernelspec": {
   "display_name": "Python 3",
   "language": "python",
   "name": "python3"
  },
  "language_info": {
   "codemirror_mode": {
    "name": "ipython",
    "version": 3
   },
   "file_extension": ".py",
   "mimetype": "text/x-python",
   "name": "python",
   "nbconvert_exporter": "python",
   "pygments_lexer": "ipython3",
   "version": "3.7.0"
  }
 },
 "nbformat": 4,
 "nbformat_minor": 2
}
